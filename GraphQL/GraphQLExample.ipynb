{
 "cells": [
  {
   "cell_type": "code",
   "execution_count": 2,
   "id": "80ee1e7f-09f0-43ca-84d7-64e819d392b1",
   "metadata": {},
   "outputs": [
    {
     "name": "stdout",
     "output_type": "stream",
     "text": [
      "Print Result - {'data': {'tokens': [{'id': '0x0000000000085d4780b73119b644ae5ecd22b376', 'symbol': 'TUSD'}, {'id': '0x006bea43baa3f7a6f765f14f10a1a1b08334ef45', 'symbol': 'STX'}, {'id': '0x009e864923b49263c7f10d19b7f8ab7a9a5aad33', 'symbol': 'FKX'}, {'id': '0x014186b1a2d675fc1e303a3d62b574c3270a38e0', 'symbol': 'MADBNT'}, {'id': '0x02f2d4a04e6e01ace88bd2cd632875543b2ef577', 'symbol': 'PKG'}]}}\n",
      "#############\n",
      "{'data': {'tokens': [{'id': '0x0000000000085d4780b73119b644ae5ecd22b376',\n",
      "                      'symbol': 'TUSD'},\n",
      "                     {'id': '0x006bea43baa3f7a6f765f14f10a1a1b08334ef45',\n",
      "                      'symbol': 'STX'},\n",
      "                     {'id': '0x009e864923b49263c7f10d19b7f8ab7a9a5aad33',\n",
      "                      'symbol': 'FKX'},\n",
      "                     {'id': '0x014186b1a2d675fc1e303a3d62b574c3270a38e0',\n",
      "                      'symbol': 'MADBNT'},\n",
      "                     {'id': '0x02f2d4a04e6e01ace88bd2cd632875543b2ef577',\n",
      "                      'symbol': 'PKG'}]}}\n"
     ]
    }
   ],
   "source": [
    "# pulled from\n",
    "# https://cryptomarketpool.com/use-the-graph-to-query-ethereum-data-in-python/\n",
    "\n",
    "import requests\n",
    "from pprint import pprint\n",
    "\n",
    "\n",
    "def run_query(q):\n",
    "\n",
    "    # endpoint where you are making the request\n",
    "    request = requests.post('https://api.thegraph.com/subgraphs/name/blocklytics/bancor'\n",
    "                            '',\n",
    "                            json={'query': query})\n",
    "    if request.status_code == 200:\n",
    "        return request.json()\n",
    "    else:\n",
    "        raise Exception('Query failed. return code is {}.      {}'.format(request.status_code, query))\n",
    "\n",
    "\n",
    "# The Graph query - Query aave for a list of the last 10 flash loans by time stamp\n",
    "query = \"\"\"\n",
    "\n",
    "{\n",
    "  tokens(first: 5) {\n",
    "    id\n",
    "    symbol\n",
    "  }\n",
    "}\n",
    "\"\"\"\n",
    "result = run_query(query)\n",
    "\n",
    "# print the results\n",
    "print('Print Result - {}'.format(result))\n",
    "print('#############')\n",
    "# pretty print the results to make it easier to read\n",
    "pprint(result)"
   ]
  },
  {
   "cell_type": "code",
   "execution_count": null,
   "id": "e0a99394-55ae-4a06-9e21-7b64c311553e",
   "metadata": {},
   "outputs": [],
   "source": []
  }
 ],
 "metadata": {
  "kernelspec": {
   "display_name": "Python 3",
   "language": "python",
   "name": "python3"
  },
  "language_info": {
   "codemirror_mode": {
    "name": "ipython",
    "version": 3
   },
   "file_extension": ".py",
   "mimetype": "text/x-python",
   "name": "python",
   "nbconvert_exporter": "python",
   "pygments_lexer": "ipython3",
   "version": "3.9.5"
  }
 },
 "nbformat": 4,
 "nbformat_minor": 5
}
